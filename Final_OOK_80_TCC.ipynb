{
  "cells": [
    {
      "cell_type": "markdown",
      "metadata": {
        "id": "view-in-github",
        "colab_type": "text"
      },
      "source": [
        "<a href=\"https://colab.research.google.com/github/LorenzoDonatti/TCC_MachineLearning_VLC/blob/main/Final_OOK_80_TCC.ipynb\" target=\"_parent\"><img src=\"https://colab.research.google.com/assets/colab-badge.svg\" alt=\"Open In Colab\"/></a>"
      ]
    },
    {
      "cell_type": "markdown",
      "metadata": {
        "id": "eeIpoWvsiyjO"
      },
      "source": [
        "# **ALGORITMOS DE DEEP LEARNING EM DATASETS DE COMUNICAÇÃO POR LUZ VISIVEL**\n",
        "\n",
        "---\n",
        "\n",
        "\n",
        "TRABALHO DE CONCLUSÃO DE CURSO DO ALUNO LORENZO MOREIRA DONATTI."
      ]
    },
    {
      "cell_type": "markdown",
      "metadata": {
        "id": "Pak_KI9dzBMh"
      },
      "source": [
        "# Importação de Bibliotecas e Download da Pasta no Drive\n",
        "\n",
        "---\n",
        "Como o dataset foi baixado no GDrive, é possível baixar a pasta completa pela biblioteca gdown.\n",
        "Ela ainda fornece como saída, os diretórios de todos arquivos baixados (guardar em variavel)\n"
      ]
    },
    {
      "cell_type": "code",
      "source": [
        "!pip install -U --no-cache-dir gdown --pre\n",
        "\n",
        "#MANIPULAÇÃO\n",
        "import numpy as np\n",
        "import pandas as pd\n",
        "\n",
        "#DOWNLOAD E ABERTURA\n",
        "import gdown\n",
        "from scipy.io import loadmat\n",
        "\n",
        "#FILTRO\n",
        "from scipy.ndimage import gaussian_filter1d\n",
        "\n",
        "#PRE PROCESSAMENTO E METRICAS\n",
        "from sklearn import preprocessing\n",
        "from sklearn.model_selection import train_test_split\n",
        "from sklearn.metrics import accuracy_score\n",
        "\n",
        "#MODELOS DE MACHINE LEARNING\n",
        "from sklearn.svm import SVC\n",
        "from sklearn.tree import DecisionTreeClassifier\n",
        "from sklearn.ensemble import RandomForestClassifier\n",
        "from sklearn.ensemble import GradientBoostingClassifier\n",
        "from sklearn.ensemble import AdaBoostClassifier\n",
        "\n",
        "#VISUALIZAÇÃO\n",
        "import matplotlib.pyplot as plt"
      ],
      "metadata": {
        "colab": {
          "base_uri": "https://localhost:8080/"
        },
        "id": "4GBeTxbIrYNV",
        "outputId": "ee15cf5e-721e-40b0-f618-3122486e5dc4"
      },
      "execution_count": null,
      "outputs": [
        {
          "output_type": "stream",
          "name": "stdout",
          "text": [
            "Looking in indexes: https://pypi.org/simple, https://us-python.pkg.dev/colab-wheels/public/simple/\n",
            "Requirement already satisfied: gdown in /usr/local/lib/python3.8/dist-packages (4.4.0)\n",
            "Collecting gdown\n",
            "  Downloading gdown-4.6.3-py3-none-any.whl (14 kB)\n",
            "Requirement already satisfied: six in /usr/local/lib/python3.8/dist-packages (from gdown) (1.15.0)\n",
            "Requirement already satisfied: requests[socks] in /usr/local/lib/python3.8/dist-packages (from gdown) (2.25.1)\n",
            "Requirement already satisfied: beautifulsoup4 in /usr/local/lib/python3.8/dist-packages (from gdown) (4.6.3)\n",
            "Requirement already satisfied: filelock in /usr/local/lib/python3.8/dist-packages (from gdown) (3.9.0)\n",
            "Requirement already satisfied: tqdm in /usr/local/lib/python3.8/dist-packages (from gdown) (4.64.1)\n",
            "Requirement already satisfied: urllib3<1.27,>=1.21.1 in /usr/local/lib/python3.8/dist-packages (from requests[socks]->gdown) (1.24.3)\n",
            "Requirement already satisfied: certifi>=2017.4.17 in /usr/local/lib/python3.8/dist-packages (from requests[socks]->gdown) (2022.12.7)\n",
            "Requirement already satisfied: idna<3,>=2.5 in /usr/local/lib/python3.8/dist-packages (from requests[socks]->gdown) (2.10)\n",
            "Requirement already satisfied: chardet<5,>=3.0.2 in /usr/local/lib/python3.8/dist-packages (from requests[socks]->gdown) (4.0.0)\n",
            "Requirement already satisfied: PySocks!=1.5.7,>=1.5.6 in /usr/local/lib/python3.8/dist-packages (from requests[socks]->gdown) (1.7.1)\n",
            "Installing collected packages: gdown\n",
            "  Attempting uninstall: gdown\n",
            "    Found existing installation: gdown 4.4.0\n",
            "    Uninstalling gdown-4.4.0:\n",
            "      Successfully uninstalled gdown-4.4.0\n",
            "Successfully installed gdown-4.6.3\n"
          ]
        }
      ]
    },
    {
      "cell_type": "code",
      "execution_count": null,
      "metadata": {
        "colab": {
          "base_uri": "https://localhost:8080/"
        },
        "id": "kL19aaCF0ZoB",
        "outputId": "9a58b2e7-a113-4384-ce28-bd9685dd6fcc"
      },
      "outputs": [
        {
          "output_type": "execute_result",
          "data": {
            "text/plain": [
              "['/content/80/0cm.mat',\n",
              " '/content/80/5cm.mat',\n",
              " '/content/80/10cm.mat',\n",
              " '/content/80/15cm.mat',\n",
              " '/content/80/20cm.mat',\n",
              " '/content/80/25cm.mat',\n",
              " '/content/80/30cm.mat',\n",
              " '/content/80/35cm.mat',\n",
              " '/content/80/40cm.mat',\n",
              " '/content/80/45cm.mat',\n",
              " '/content/80/50cm.mat',\n",
              " '/content/80/55cm.mat',\n",
              " '/content/80/60cm.mat',\n",
              " '/content/80/65cm.mat',\n",
              " '/content/80/70cm.mat',\n",
              " '/content/80/75cm.mat',\n",
              " '/content/80/80cm.mat',\n",
              " '/content/80/85cm.mat',\n",
              " '/content/80/90cm.mat',\n",
              " '/content/80/95cm.mat',\n",
              " '/content/80/100cm.mat',\n",
              " '/content/80/105cm.mat',\n",
              " '/content/80/110cm.mat',\n",
              " '/content/80/115cm.mat',\n",
              " '/content/80/120cm.mat',\n",
              " '/content/80/125cm.mat',\n",
              " '/content/80/130cm.mat',\n",
              " '/content/80/135cm.mat',\n",
              " '/content/80/140cm.mat',\n",
              " '/content/80/145cm.mat',\n",
              " '/content/80/150cm.mat',\n",
              " '/content/80/155cm.mat',\n",
              " '/content/80/160cm.mat',\n",
              " '/content/80/165cm.mat',\n",
              " '/content/80/170cm.mat',\n",
              " '/content/80/175cm.mat',\n",
              " '/content/80/180cm.mat',\n",
              " '/content/80/label.mat']"
            ]
          },
          "metadata": {},
          "execution_count": 2
        }
      ],
      "source": [
        "teste = \"https://drive.google.com/drive/folders/1Hu6JsnLbPBjOJWLy4j1xMsr3XHnShzrN?usp=share_link\"\n",
        "output = gdown.download_folder(teste, quiet=True, use_cookies=False,)\n",
        "\n",
        "output"
      ]
    },
    {
      "cell_type": "markdown",
      "metadata": {
        "id": "o1biG79y1dki"
      },
      "source": [
        "# Abrindo arquivos .mat e identificando seu cabeçalho\n",
        "\n",
        "---\n",
        "\n",
        "\n",
        "\n",
        "Para a abertura de arquivos .mat foi necessário o módulo loadmat da biblioteca scipy.io. A função retorna um dicionário com diferentes Headers, onde apenas o ultimo será utilizado. \n",
        "\n",
        "Como todos arquivos da pasta serão abertos, o conteúdo de cada arquivo será guardado em uma posição de uma lista.\n",
        "\n",
        "Os labels (saida y) estarão na ultima posição da lista "
      ]
    },
    {
      "cell_type": "code",
      "execution_count": null,
      "metadata": {
        "colab": {
          "base_uri": "https://localhost:8080/"
        },
        "id": "n29rjr7Z2HWj",
        "outputId": "922fa34b-5681-4fb2-c60f-845fc2fd14e2"
      },
      "outputs": [
        {
          "output_type": "stream",
          "name": "stdout",
          "text": [
            "{'__header__': b'MATLAB 5.0 MAT-file, Platform: PCWIN, Created on: Tue Jul 24 21:19:25 2018', '__version__': '1.0', '__globals__': [], 'org_label': array([[1, 0, 1, ..., 1, 1, 1]], dtype=uint8)}\n",
            "[[1 0 1 ... 1 1 1]]\n",
            "[[1 0 1 ... 1 1 1]]\n"
          ]
        }
      ],
      "source": [
        "########### ESSE PROCESSO É SUBSTITUIDO###########\n",
        "exemplo = loadmat('/content/80/label.mat')\n",
        "print(exemplo)\n",
        "\n",
        "exemplo = exemplo['org_label']\n",
        "print(exemplo)\n",
        "\n",
        "########### POR ESSE PROCESSO ################\n",
        "exemplo_otim = loadmat('/content/80/label.mat')\n",
        "exemplo_otim = exemplo_otim[list(exemplo_otim.keys())[-1]]\n",
        "print(exemplo_otim)"
      ]
    },
    {
      "cell_type": "code",
      "execution_count": null,
      "metadata": {
        "id": "ChIrJCfe1bIZ",
        "colab": {
          "base_uri": "https://localhost:8080/"
        },
        "outputId": "e9485724-0676-4ccc-a830-5ff9360f65ed"
      },
      "outputs": [
        {
          "output_type": "stream",
          "name": "stdout",
          "text": [
            "[[1 0 1 ... 1 1 1]] [[0.32835821 0.34328358 0.32835821 ... 0.26984127 0.28571429 0.28571429]\n",
            " [0.34328358 0.35820896 0.34328358 ... 0.31746032 0.3015873  0.31746032]\n",
            " [0.35820896 0.34328358 0.35820896 ... 0.33333333 0.33333333 0.33333333]\n",
            " ...\n",
            " [0.35820896 0.25373134 0.32835821 ... 0.22222222 0.23809524 0.28571429]\n",
            " [0.34328358 0.28358209 0.34328358 ... 0.25396825 0.23809524 0.31746032]\n",
            " [0.32835821 0.29850746 0.34328358 ... 0.26984127 0.28571429 0.28571429]]\n"
          ]
        }
      ],
      "source": [
        "datas = []\n",
        "\n",
        "for o in output:\n",
        "  data_test = loadmat(o)\n",
        "  data_test = data_test[list(data_test.keys())[-1]]\n",
        "  datas.append(data_test)\n",
        "\n",
        "print(datas[-1], datas[0])"
      ]
    },
    {
      "cell_type": "markdown",
      "metadata": {
        "id": "AsPB83PKznzI"
      },
      "source": [
        "# Preparação dos dados e Codificação dos valores Numéricos\n",
        "\n",
        "---\n",
        "É necessário codificar os dados em duas situações, quando forem categóricos (não numéricos) e quando estiverem com valores numéricos diferentes do escopo entre 0 e 1, a biblioteca sklearn fornece duas funções de fácil utilização e bem otimizadas.\n",
        "\n",
        "Basicamente é feito um casting para int e após uma normalização dos dados.\n",
        "\n",
        "Além disso, os dados do dataset vêm com o shape (1,x), e nosso modelo de machine learning somente aceitará vetores como parâmetro de saída, sendo necessário Transpor nossa estrutura.\n",
        "\n",
        "Também, a função flatten é necessária para transformar a estrutura em um vetor de 1D.\n",
        "\n"
      ]
    },
    {
      "cell_type": "code",
      "execution_count": null,
      "metadata": {
        "id": "GrHXqfPw8fG5",
        "colab": {
          "base_uri": "https://localhost:8080/"
        },
        "outputId": "a03c6439-f94e-475b-f96c-2ce2a6d2a43e"
      },
      "outputs": [
        {
          "output_type": "stream",
          "name": "stdout",
          "text": [
            "Formatos originais dos dados: \n",
            " (1, 18000) (80, 18000) <class 'numpy.ndarray'>\n",
            "\n",
            "Formatos Transpostos dos dados: \n",
            " (18000, 1) (18000, 80)\n",
            "\n",
            "Utilização do flatten: \n",
            " (18000,)\n",
            "\n",
            "Dados sem flatten: \n",
            " [[1]\n",
            " [0]\n",
            " [1]\n",
            " ...\n",
            " [1]\n",
            " [1]\n",
            " [1]] \n",
            "Dados com flatten: \n",
            " [1 0 1 ... 1 1 1]\n"
          ]
        }
      ],
      "source": [
        "print(\"Formatos originais dos dados: \\n\", datas[-1].shape, datas[0].shape, type(datas[-1]))\n",
        "\n",
        "print(\"\\nFormatos Transpostos dos dados: \\n\", datas[-1].T.shape, datas[0].T.shape)\n",
        "\n",
        "print(\"\\nUtilização do flatten: \\n\", datas[-1].flatten().shape)\n",
        "\n",
        "print(\"\\nDados sem flatten: \\n\", datas[-1].T, \"\\nDados com flatten: \\n\", datas[-1].flatten())"
      ]
    },
    {
      "cell_type": "code",
      "execution_count": null,
      "metadata": {
        "id": "cEuvXZYPAaIq",
        "colab": {
          "base_uri": "https://localhost:8080/"
        },
        "outputId": "b06a3cd1-754b-4a11-dc67-23de8be8ffc6"
      },
      "outputs": [
        {
          "output_type": "stream",
          "name": "stdout",
          "text": [
            "(18000,)\n"
          ]
        }
      ],
      "source": [
        "lab = preprocessing.LabelEncoder()\n",
        "y_transf = lab.fit_transform(datas[-1].flatten())\n",
        "\n",
        "print(y_transf.shape)"
      ]
    },
    {
      "cell_type": "markdown",
      "metadata": {
        "id": "rH4G7ZfB1Tvd"
      },
      "source": [
        "# Modelo de Machine Learning (SVM)\n",
        "\n",
        "---\n",
        "\n",
        "As máquinas de vetores de suporte foram obtidas através da biblioteca scikitlearn, com o seguinte procedimento:\n",
        "\n",
        "Como os valores que serão utilizados estão dentro de uma lista, foi necessário um laço de repetição, que percorrerá do inicio até o penultimo valor (ignorando o label, pois será a saída)\n",
        "\n",
        "O primeiro passo é separar os dados de treino e os dados de teste, seria necessária a normalização, porém os dados do dataset já estão normalizados.\n",
        "\n",
        "Os Parametros são"
      ]
    },
    {
      "cell_type": "code",
      "execution_count": null,
      "metadata": {
        "colab": {
          "base_uri": "https://localhost:8080/",
          "height": 122
        },
        "id": "gO5LmxIqv1sZ",
        "outputId": "fbc58b04-8ac9-4870-f1a0-add30957cf61"
      },
      "outputs": [
        {
          "output_type": "execute_result",
          "data": {
            "text/plain": [
              "'i=0\\ndistancia = []\\nacur_SVM = []\\nacur_SVM_Gauss = []\\nfor data in datas[:-1]:\\n  X_train, X_test, y_train, y_test  = train_test_split(data.T, y_transf, test_size=0.33, random_state=0)\\n\\n  X_train_Gauss = gaussian_filter1d(X_train, 3)\\n  X_test_Gauss = gaussian_filter1d(X_test, 3)\\n\\n  clf = SVC(kernel = \\'linear\\', decision_function_shape=\\'ovo\\')\\n  clf.fit(X_train, y_train)\\n\\n  clf_Gauss = SVC(kernel = \\'linear\\', decision_function_shape=\\'ovo\\')\\n  clf_Gauss.fit(X_train_Gauss, y_train)\\n\\n  y_pred = clf.predict(X_test)\\n  y_pred_Gauss = clf_Gauss.predict(X_test_Gauss)\\n\\n  acur_SVM.append(accuracy_score(y_test, y_pred)*100)\\n  acur_SVM_Gauss.append(accuracy_score(y_test, y_pred_Gauss)*100)\\n  distancia.append(i)\\n  #print(\"\\nAcuracia:\", accuracy_score(y_test, y_pred)*100, \"%   Distancia:\", i)\\n  i = i + 5\\n\\nimport matplotlib.pyplot as plt\\nplt.plot(distancia,acur_SVM) \\nplt.plot(distancia,acur_SVM_Gauss,\\'.\\') '"
            ],
            "application/vnd.google.colaboratory.intrinsic+json": {
              "type": "string"
            }
          },
          "metadata": {},
          "execution_count": 7
        }
      ],
      "source": [
        "'''i=0\n",
        "distancia = []\n",
        "acur_SVM = []\n",
        "acur_SVM_Gauss = []\n",
        "for data in datas[:-1]:\n",
        "  X_train, X_test, y_train, y_test  = train_test_split(data.T, y_transf, test_size=0.33, random_state=0)\n",
        "\n",
        "  X_train_Gauss = gaussian_filter1d(X_train, 3)\n",
        "  X_test_Gauss = gaussian_filter1d(X_test, 3)\n",
        "\n",
        "  clf = SVC(kernel = 'linear', decision_function_shape='ovo')\n",
        "  clf.fit(X_train, y_train)\n",
        "\n",
        "  clf_Gauss = SVC(kernel = 'linear', decision_function_shape='ovo')\n",
        "  clf_Gauss.fit(X_train_Gauss, y_train)\n",
        "\n",
        "  y_pred = clf.predict(X_test)\n",
        "  y_pred_Gauss = clf_Gauss.predict(X_test_Gauss)\n",
        "\n",
        "  acur_SVM.append(accuracy_score(y_test, y_pred)*100)\n",
        "  acur_SVM_Gauss.append(accuracy_score(y_test, y_pred_Gauss)*100)\n",
        "  distancia.append(i)\n",
        "  #print(\"\\nAcuracia:\", accuracy_score(y_test, y_pred)*100, \"%   Distancia:\", i)\n",
        "  i = i + 5\n",
        "\n",
        "import matplotlib.pyplot as plt\n",
        "plt.plot(distancia,acur_SVM) \n",
        "plt.plot(distancia,acur_SVM_Gauss,'.') '''  "
      ]
    },
    {
      "cell_type": "markdown",
      "source": [
        "# **ÁRVORES DE DECISÃO**\n",
        "\n",
        "---\n",
        "\n",
        "\n",
        "\n",
        "\n"
      ],
      "metadata": {
        "id": "V2xjUjh8bLAb"
      }
    },
    {
      "cell_type": "code",
      "source": [
        "i=0\n",
        "distancia = []\n",
        "acur_DT = []\n",
        "acur_DT_Gauss = []\n",
        "for data in datas[:-1]:\n",
        "  X_train, X_test, y_train, y_test  = train_test_split(data.T, y_transf, test_size=0.33, random_state=0)\n",
        "  \n",
        "  X_train_Gauss = gaussian_filter1d(X_train, 3)\n",
        "  X_test_Gauss = gaussian_filter1d(X_test, 3)\n",
        "\n",
        "  clf = DecisionTreeClassifier(criterion='entropy')\n",
        "  clf.fit(X_train, y_train)\n",
        "\n",
        "  clf_Gauss = DecisionTreeClassifier(criterion='entropy')\n",
        "  clf_Gauss.fit(X_train_Gauss, y_train)\n",
        "\n",
        "  y_pred = clf.predict(X_test)\n",
        "  y_pred_Gauss = clf_Gauss.predict(X_test_Gauss)\n",
        "\n",
        "  acur_DT.append(accuracy_score(y_test, y_pred)*100)\n",
        "  acur_DT_Gauss.append(accuracy_score(y_test, y_pred_Gauss)*100)\n",
        "  distancia.append(i)\n",
        "  #print(\"\\nAcuracia:\", accuracy_score(y_test, y_pred)*100, \"%   Distancia:\", i)\n",
        "  i = i + 5\n",
        "\n",
        "#plt.plot(distancia,acur_DT) \n",
        "#plt.plot(distancia,acur_DT_Gauss,'.') "
      ],
      "metadata": {
        "id": "KspfZbZEbW7i"
      },
      "execution_count": null,
      "outputs": []
    },
    {
      "cell_type": "markdown",
      "metadata": {
        "id": "NLFc-FS6ehRb"
      },
      "source": [
        "# **METODOS DE ENSEMBLE**\n",
        "\n",
        "---\n",
        "\n"
      ]
    },
    {
      "cell_type": "markdown",
      "source": [
        "> # **Florestas Aleatórias**\n",
        "\n",
        "---\n",
        "\n",
        "> Quando o Bagging é utilizado em Decision Trees (Arvores de Decisão), um novo algoritmo chamado Random Forest é criado.\n",
        "\n",
        "\n",
        "\n",
        "> A biblioteca Scikit Learn conta com um modulo dedicado apenas as Random Forests.\n"
      ],
      "metadata": {
        "id": "cNrJ1Xx6aV1i"
      }
    },
    {
      "cell_type": "code",
      "source": [
        "i=0\n",
        "distancia = []\n",
        "acur_RF = []\n",
        "acur_RF_Gauss = []\n",
        "for data in datas[:-1]:\n",
        "  X_train, X_test, y_train, y_test  = train_test_split(data.T, y_transf, test_size=0.33, random_state=0)\n",
        "  \n",
        "  X_train_Gauss = gaussian_filter1d(X_train, 3)\n",
        "  X_test_Gauss = gaussian_filter1d(X_test, 3)\n",
        "\n",
        "  clf = RandomForestClassifier(criterion='entropy',n_estimators=25)\n",
        "  clf.fit(X_train, y_train)\n",
        "\n",
        "  clf_Gauss = RandomForestClassifier(criterion='entropy',n_estimators=25)\n",
        "  clf_Gauss.fit(X_train_Gauss, y_train)\n",
        "\n",
        "  y_pred = clf.predict(X_test)\n",
        "  y_pred_Gauss = clf_Gauss.predict(X_test_Gauss)\n",
        "\n",
        "  acur_RF.append(accuracy_score(y_test, y_pred)*100)\n",
        "  acur_RF_Gauss.append(accuracy_score(y_test, y_pred_Gauss)*100)\n",
        "  distancia.append(i)\n",
        "  #print(\"\\nAcuracia:\", accuracy_score(y_test, y_pred)*100, \"%   Distancia:\", i)\n",
        "  i = i + 5\n",
        "\n",
        "#plt.plot(distancia,acur_RF) \n",
        "#plt.plot(distancia,acur_RF_Gauss,'.')  "
      ],
      "metadata": {
        "id": "VAPqSMCyaVfS"
      },
      "execution_count": null,
      "outputs": []
    },
    {
      "cell_type": "markdown",
      "metadata": {
        "id": "pUreaQj9jd5F"
      },
      "source": [
        "# **BOOSTING**\n",
        "\n",
        "---\n",
        "\n",
        "Metodos de Boosting são metodos de ensemble que combinam classificadores fracos sequencialmente. Cada classificador tem objetivo de corrigir os erros do predecessor.\n",
        "\n",
        "Serão abordados o Adaboost e o Gradient Boost."
      ]
    },
    {
      "cell_type": "markdown",
      "metadata": {
        "id": "36XxcSYzj3SZ"
      },
      "source": [
        "\n",
        "> # **Gradient Boost**\n",
        "\n",
        "\n"
      ]
    },
    {
      "cell_type": "code",
      "execution_count": null,
      "metadata": {
        "id": "Bw-WxHsTj-K1"
      },
      "outputs": [],
      "source": [
        "i=0\n",
        "distancia = []\n",
        "acur_GB = []\n",
        "acur_GB_Gauss = []\n",
        "for data in datas[:-1]:\n",
        "  X_train, X_test, y_train, y_test  = train_test_split(data.T, y_transf, test_size=0.33, random_state=0)\n",
        "  \n",
        "  X_train_Gauss = gaussian_filter1d(X_train, 3)\n",
        "  X_test_Gauss = gaussian_filter1d(X_test, 3)\n",
        "\n",
        "  clf = GradientBoostingClassifier(n_estimators=25)\n",
        "  clf.fit(X_train, y_train)\n",
        "\n",
        "  clf_Gauss = GradientBoostingClassifier(n_estimators=25)\n",
        "  clf_Gauss.fit(X_train_Gauss, y_train)\n",
        "\n",
        "  y_pred = clf.predict(X_test)\n",
        "  y_pred_Gauss = clf_Gauss.predict(X_test_Gauss)\n",
        "\n",
        "  acur_GB.append(accuracy_score(y_test, y_pred)*100)\n",
        "  acur_GB_Gauss.append(accuracy_score(y_test, y_pred_Gauss)*100)\n",
        "  distancia.append(i)\n",
        "  #print(\"\\nAcuracia:\", accuracy_score(y_test, y_pred)*100, \"%   Distancia:\", i)\n",
        "  i = i + 5\n",
        "\n",
        "#plt.plot(distancia,acur_GB) \n",
        "#plt.plot(distancia,acur_GB_Gauss,'.')   "
      ]
    },
    {
      "cell_type": "markdown",
      "source": [
        "> # **AdaBoost**"
      ],
      "metadata": {
        "id": "xBF5LuGfdD6I"
      }
    },
    {
      "cell_type": "code",
      "source": [
        "i=0\n",
        "distancia = []\n",
        "acur_Ada = []\n",
        "acur_Ada_Gauss = []\n",
        "for data in datas[:-1]:\n",
        "  X_train, X_test, y_train, y_test  = train_test_split(data.T, y_transf, test_size=0.33, random_state=0)\n",
        "  \n",
        "  X_train_Gauss = gaussian_filter1d(X_train, 3)\n",
        "  X_test_Gauss = gaussian_filter1d(X_test, 3)\n",
        "\n",
        "  clf = AdaBoostClassifier(DecisionTreeClassifier(criterion='entropy'),n_estimators=25)\n",
        "  clf.fit(X_train, y_train)\n",
        "\n",
        "  clf_Gauss = AdaBoostClassifier(DecisionTreeClassifier(criterion='entropy'), n_estimators=25)\n",
        "  clf_Gauss.fit(X_train_Gauss, y_train)\n",
        "\n",
        "  y_pred = clf.predict(X_test)\n",
        "  y_pred_Gauss = clf_Gauss.predict(X_test_Gauss)\n",
        "\n",
        "  acur_Ada.append(accuracy_score(y_test, y_pred)*100)\n",
        "  acur_Ada_Gauss.append(accuracy_score(y_test, y_pred_Gauss)*100)\n",
        "  distancia.append(i)\n",
        "  #print(\"\\nAcuracia:\", accuracy_score(y_test, y_pred)*100, \"%   Distancia:\", i)\n",
        "  i = i + 5\n",
        "\n",
        "#plt.plot(distancia,acur_Ada) \n",
        "#plt.plot(distancia,acur_Ada_Gauss,'.')   "
      ],
      "metadata": {
        "id": "gWojxMhldH9b"
      },
      "execution_count": null,
      "outputs": []
    },
    {
      "cell_type": "markdown",
      "source": [
        "# **PLOT DOS GRAFICOS**\n",
        "\n",
        "---"
      ],
      "metadata": {
        "id": "dJyANFy1u6cJ"
      }
    },
    {
      "cell_type": "code",
      "source": [
        "# Initialise the subplot function using number of rows and columns\n",
        "figure, axis = plt.subplots(1, 2, figsize=[16,8], sharey=True)\n",
        "  \n",
        "axis[0].plot(distancia,acur_DT, '.', label='Arvore de decisão')\n",
        "axis[0].plot(distancia,acur_RF, '--', label='Random Forest')\n",
        "axis[0].plot(distancia,acur_GB, '*-', label='Gradient Boost')\n",
        "axis[0].plot(distancia,acur_Ada, label='Adaboost')\n",
        "axis[0].set_title(\"ACURÁCIA MODELOS\")\n",
        "axis[0].legend(shadow=True, fontsize='x-large')\n",
        "axis[0].grid(True) \n",
        "axis[0].set_xlabel('Distância (cm)', fontsize =15)\n",
        "axis[0].set_ylabel('Acurácia (%)', fontsize =15)\n",
        "\n",
        "axis[1].plot(distancia,acur_DT_Gauss,'.', label='Arvore de decisão') \n",
        "axis[1].plot(distancia,acur_RF_Gauss,'--', label='Random Forest') \n",
        "axis[1].plot(distancia,acur_GB_Gauss,'*-', label='Gradient Boost')\n",
        "axis[1].plot(distancia,acur_Ada_Gauss, label='Adaboost') \n",
        "axis[1].set_title(\"ACURÁCIA MODELOS FILTRADOS\")\n",
        "axis[1].legend(shadow=True, fontsize='x-large')    \n",
        "axis[1].grid(True) \n",
        "axis[1].set_xlabel('Distância (cm)', fontsize =15)\n",
        "axis[1].set_ylabel('Acurácia (%)', fontsize =15)\n",
        "plt.show() "
      ],
      "metadata": {
        "colab": {
          "base_uri": "https://localhost:8080/",
          "height": 518
        },
        "id": "5IJmlQNM6xaM",
        "outputId": "739db177-6e76-418a-a036-0023386efe25"
      },
      "execution_count": null,
      "outputs": [
        {
          "output_type": "display_data",
          "data": {
            "text/plain": [
              "<Figure size 1152x576 with 2 Axes>"
            ],
            "image/png": "[encoded data removed]"
          },
          "metadata": {
            "needs_background": "light"
          }
        }
      ]
    },
    {
      "cell_type": "code",
      "source": [
        "# Initialise the subplot function using number of rows and columns\n",
        "figure, axis = plt.subplots(1, 1, figsize=[8,8])\n",
        "  \n",
        "# For Sine Function\n",
        "axis.plot(distancia,acur_RF, label='Random Forest')\n",
        "axis.plot(distancia,acur_GB, label='Gradient Boost')\n",
        "axis.plot(distancia,acur_RF_Gauss,'--', label='Random Forest Filtro') \n",
        "axis.plot(distancia,acur_GB_Gauss,'*-', label='Gradient Boost Filtro')\n",
        "axis.set_title(\"ACURÁCIA MODELOS\")\n",
        "axis.legend(shadow=True, fontsize='x-large')\n",
        "axis.grid(True)   \n",
        "# Combine all the operations and display\n",
        "plt.show() "
      ],
      "metadata": {
        "colab": {
          "base_uri": "https://localhost:8080/",
          "height": 499
        },
        "id": "zIbiTJfoppda",
        "outputId": "0500d5d4-2562-4c63-b08b-fca276954145"
      },
      "execution_count": null,
      "outputs": [
        {
          "output_type": "display_data",
          "data": {
            "text/plain": [
              "<Figure size 576x576 with 1 Axes>"
            ],
            "image/png": "[encoded data removed]"
          },
          "metadata": {
            "needs_background": "light"
          }
        }
      ]
    },
    {
      "cell_type": "code",
      "source": [
        "for i in range(len(distancia)):\n",
        "  if distancia[i]==100:\n",
        "    print(acur_RF[i], acur_RF_Gauss[i])\n",
        "    print(acur_GB[i], acur_GB_Gauss[i])\n",
        "    print(acur_Ada[i], acur_Ada_Gauss[i])\n",
        "    print(acur_DT[i], acur_DT_Gauss[i])"
      ],
      "metadata": {
        "colab": {
          "base_uri": "https://localhost:8080/"
        },
        "id": "4XZ63vV6isga",
        "outputId": "7fa38772-e030-4698-beea-01df699b41ef"
      },
      "execution_count": null,
      "outputs": [
        {
          "output_type": "stream",
          "name": "stdout",
          "text": [
            "90.43771043771044 94.2929292929293\n",
            "88.2996632996633 93.53535353535354\n",
            "79.37710437710437 91.01010101010101\n",
            "79.14141414141415 91.31313131313131\n"
          ]
        }
      ]
    },
    {
      "cell_type": "code",
      "source": [
        "for i in range(len(distancia)):\n",
        "  if distancia[i]==70:\n",
        "    print(acur_RF[i] - acur_RF_Gauss[i])\n",
        "    print(acur_GB[i] - acur_GB_Gauss[i])\n",
        "    print(\"----------------\")\n",
        "  if distancia[i]==100:\n",
        "    print(acur_RF[i] - acur_RF_Gauss[i])\n",
        "    print(acur_GB[i] - acur_GB_Gauss[i])\n",
        "    print(\"----------------\")\n",
        "  if distancia[i]==150:\n",
        "    print(acur_RF[i] - acur_RF_Gauss[i])\n",
        "    print(acur_GB[i] - acur_GB_Gauss[i])  \n",
        "    print(\"----------------\")\n",
        "  if distancia[i]==180:\n",
        "    print(acur_RF[i] - acur_RF_Gauss[i])\n",
        "    print(acur_GB[i] - acur_GB_Gauss[i]) "
      ],
      "metadata": {
        "colab": {
          "base_uri": "https://localhost:8080/"
        },
        "id": "VqcJOd_FsuOO",
        "outputId": "73c16e4c-1416-475c-8e24-839ea05ce074"
      },
      "execution_count": null,
      "outputs": [
        {
          "output_type": "stream",
          "name": "stdout",
          "text": [
            "-1.767676767676761\n",
            "-2.643097643097647\n",
            "----------------\n",
            "-3.8552188552188653\n",
            "-5.235690235690242\n",
            "----------------\n",
            "-6.531986531986533\n",
            "-5.673400673400678\n",
            "----------------\n",
            "-6.178451178451191\n",
            "-5.488215488215481\n"
          ]
        }
      ]
    },
    {
      "cell_type": "code",
      "source": [
        "for i in range(len(distancia)):\n",
        "  if distancia[i]==50:\n",
        "    print(acur_RF[i],acur_RF_Gauss[i])\n",
        "    print(acur_GB[i],acur_GB_Gauss[i])\n",
        "    print(\"----------------\")\n",
        "  if distancia[i]==100:\n",
        "    print(acur_RF[i],acur_RF_Gauss[i])\n",
        "    print(acur_GB[i],acur_GB_Gauss[i])\n",
        "    print(\"----------------\")\n",
        "  if distancia[i]==150:\n",
        "    print(acur_RF[i],acur_RF_Gauss[i])\n",
        "    print(acur_GB[i],acur_GB_Gauss[i])  \n",
        "    print(\"----------------\")\n",
        "  if distancia[i]==180:\n",
        "    print(acur_RF[i],acur_RF_Gauss[i])\n",
        "    print(acur_GB[i],acur_GB_Gauss[i])  "
      ],
      "metadata": {
        "colab": {
          "base_uri": "https://localhost:8080/"
        },
        "id": "O4rb_KyMGlDj",
        "outputId": "55092e3f-5279-4456-a3cf-923d6f247c1a"
      },
      "execution_count": null,
      "outputs": [
        {
          "output_type": "stream",
          "name": "stdout",
          "text": [
            "100.0 100.0\n",
            "99.79797979797979 99.98316498316498\n",
            "----------------\n",
            "90.43771043771044 94.2929292929293\n",
            "88.2996632996633 93.53535353535354\n",
            "----------------\n",
            "67.1043771043771 73.63636363636363\n",
            "68.87205387205387 74.54545454545455\n",
            "----------------\n",
            "60.72390572390572 66.90235690235691\n",
            "61.178451178451176 66.66666666666666\n"
          ]
        }
      ]
    }
  ],
  "metadata": {
    "colab": {
      "collapsed_sections": [
        "LYZE5qEGypBz",
        "rj3D3_h4BLvg",
        "qGw2PwWFlQUn",
        "KySvizIsendj",
        "xh_jidw6fbJv",
        "mk1gLQMBhHqd",
        "cA5JnU2sjJ-d",
        "36XxcSYzj3SZ",
        "-iJKlwAi3Ezq"
      ],
      "provenance": [],
      "authorship_tag": "ABX9TyMGdI8+o9eBJadPC8iC07NO",
      "include_colab_link": true
    },
    "kernelspec": {
      "display_name": "Python 3",
      "name": "python3"
    },
    "language_info": {
      "name": "python"
    },
    "gpuClass": "standard"
  },
  "nbformat": 4,
  "nbformat_minor": 0
}