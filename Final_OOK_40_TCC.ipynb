{
  "cells": [
    {
      "cell_type": "markdown",
      "metadata": {
        "id": "view-in-github",
        "colab_type": "text"
      },
      "source": [
        "<a href=\"https://colab.research.google.com/github/LorenzoDonatti/TCC_MachineLearning_VLC/blob/main/Final_OOK_40_TCC.ipynb\" target=\"_parent\"><img src=\"https://colab.research.google.com/assets/colab-badge.svg\" alt=\"Open In Colab\"/></a>"
      ]
    },
    {
      "cell_type": "markdown",
      "metadata": {
        "id": "eeIpoWvsiyjO"
      },
      "source": [
        "# **ALGORITMOS DE DEEP LEARNING EM DATASETS DE COMUNICAÇÃO POR LUZ VISIVEL**\n",
        "\n",
        "---\n",
        "\n",
        "\n",
        "TRABALHO DE CONCLUSÃO DE CURSO DO ALUNO LORENZO MOREIRA DONATTI."
      ]
    },
    {
      "cell_type": "markdown",
      "metadata": {
        "id": "Pak_KI9dzBMh"
      },
      "source": [
        "# Importação de Bibliotecas e Download da Pasta no Drive\n",
        "\n",
        "---\n",
        "Como o dataset foi baixado no GDrive, é possível baixar a pasta completa pela biblioteca gdown.\n",
        "Ela ainda fornece como saída, os diretórios de todos arquivos baixados (guardar em variavel)\n"
      ]
    },
    {
      "cell_type": "code",
      "source": [
        "!pip install -U --no-cache-dir gdown --pre\n",
        "\n",
        "#MANIPULAÇÃO\n",
        "import numpy as np\n",
        "import pandas as pd\n",
        "\n",
        "#DOWNLOAD E ABERTURA\n",
        "import gdown\n",
        "from scipy.io import loadmat\n",
        "\n",
        "#FILTRO\n",
        "from scipy.ndimage import gaussian_filter1d\n",
        "\n",
        "#PRE PROCESSAMENTO E METRICAS\n",
        "from sklearn import preprocessing\n",
        "from sklearn.model_selection import train_test_split\n",
        "from sklearn.metrics import accuracy_score\n",
        "\n",
        "#MODELOS DE MACHINE LEARNING\n",
        "from sklearn.svm import SVC\n",
        "from sklearn.tree import DecisionTreeClassifier\n",
        "from sklearn.ensemble import RandomForestClassifier\n",
        "from sklearn.ensemble import GradientBoostingClassifier\n",
        "from sklearn.ensemble import AdaBoostClassifier\n",
        "\n",
        "#VISUALIZAÇÃO\n",
        "import matplotlib.pyplot as plt"
      ],
      "metadata": {
        "colab": {
          "base_uri": "https://localhost:8080/"
        },
        "id": "4GBeTxbIrYNV",
        "outputId": "b10a6a9b-686b-4939-c52a-4e6ffc552db0"
      },
      "execution_count": null,
      "outputs": [
        {
          "output_type": "stream",
          "name": "stdout",
          "text": [
            "Looking in indexes: https://pypi.org/simple, https://us-python.pkg.dev/colab-wheels/public/simple/\n",
            "Requirement already satisfied: gdown in /usr/local/lib/python3.8/dist-packages (4.4.0)\n",
            "Collecting gdown\n",
            "  Downloading gdown-4.6.3-py3-none-any.whl (14 kB)\n",
            "Requirement already satisfied: six in /usr/local/lib/python3.8/dist-packages (from gdown) (1.15.0)\n",
            "Requirement already satisfied: tqdm in /usr/local/lib/python3.8/dist-packages (from gdown) (4.64.1)\n",
            "Requirement already satisfied: beautifulsoup4 in /usr/local/lib/python3.8/dist-packages (from gdown) (4.6.3)\n",
            "Requirement already satisfied: requests[socks] in /usr/local/lib/python3.8/dist-packages (from gdown) (2.25.1)\n",
            "Requirement already satisfied: filelock in /usr/local/lib/python3.8/dist-packages (from gdown) (3.9.0)\n",
            "Requirement already satisfied: urllib3<1.27,>=1.21.1 in /usr/local/lib/python3.8/dist-packages (from requests[socks]->gdown) (1.24.3)\n",
            "Requirement already satisfied: certifi>=2017.4.17 in /usr/local/lib/python3.8/dist-packages (from requests[socks]->gdown) (2022.12.7)\n",
            "Requirement already satisfied: idna<3,>=2.5 in /usr/local/lib/python3.8/dist-packages (from requests[socks]->gdown) (2.10)\n",
            "Requirement already satisfied: chardet<5,>=3.0.2 in /usr/local/lib/python3.8/dist-packages (from requests[socks]->gdown) (4.0.0)\n",
            "Requirement already satisfied: PySocks!=1.5.7,>=1.5.6 in /usr/local/lib/python3.8/dist-packages (from requests[socks]->gdown) (1.7.1)\n",
            "Installing collected packages: gdown\n",
            "  Attempting uninstall: gdown\n",
            "    Found existing installation: gdown 4.4.0\n",
            "    Uninstalling gdown-4.4.0:\n",
            "      Successfully uninstalled gdown-4.4.0\n",
            "Successfully installed gdown-4.6.3\n"
          ]
        }
      ]
    },
    {
      "cell_type": "code",
      "execution_count": null,
      "metadata": {
        "colab": {
          "base_uri": "https://localhost:8080/"
        },
        "id": "kL19aaCF0ZoB",
        "outputId": "cc366a1d-9c1f-43dc-b2cc-851f9afac435"
      },
      "outputs": [
        {
          "output_type": "execute_result",
          "data": {
            "text/plain": [
              "['/content/40/0cm.mat',\n",
              " '/content/40/5cm.mat',\n",
              " '/content/40/10cm.mat',\n",
              " '/content/40/15cm.mat',\n",
              " '/content/40/20cm.mat',\n",
              " '/content/40/25cm.mat',\n",
              " '/content/40/30cm.mat',\n",
              " '/content/40/35cm.mat',\n",
              " '/content/40/40cm.mat',\n",
              " '/content/40/45cm.mat',\n",
              " '/content/40/50cm.mat',\n",
              " '/content/40/55cm.mat',\n",
              " '/content/40/60cm.mat',\n",
              " '/content/40/65cm.mat',\n",
              " '/content/40/70cm.mat',\n",
              " '/content/40/75cm.mat',\n",
              " '/content/40/80cm.mat',\n",
              " '/content/40/85cm.mat',\n",
              " '/content/40/90cm.mat',\n",
              " '/content/40/95cm.mat',\n",
              " '/content/40/100cm.mat',\n",
              " '/content/40/105cm.mat',\n",
              " '/content/40/110cm.mat',\n",
              " '/content/40/115cm.mat',\n",
              " '/content/40/120cm.mat',\n",
              " '/content/40/125cm.mat',\n",
              " '/content/40/130cm.mat',\n",
              " '/content/40/135cm.mat',\n",
              " '/content/40/140cm.mat',\n",
              " '/content/40/145cm.mat',\n",
              " '/content/40/150cm.mat',\n",
              " '/content/40/155cm.mat',\n",
              " '/content/40/160cm.mat',\n",
              " '/content/40/165cm.mat',\n",
              " '/content/40/170cm.mat',\n",
              " '/content/40/175cm.mat',\n",
              " '/content/40/180cm.mat',\n",
              " '/content/40/label.mat']"
            ]
          },
          "metadata": {},
          "execution_count": 2
        }
      ],
      "source": [
        "teste = \"https://drive.google.com/drive/folders/1TkvBRg2PaKI1KFCpT_7xon6COiWL2ZqX?usp=sharing\"\n",
        "output = gdown.download_folder(teste, quiet=True, use_cookies=False,)\n",
        "\n",
        "output"
      ]
    },
    {
      "cell_type": "markdown",
      "metadata": {
        "id": "o1biG79y1dki"
      },
      "source": [
        "# Abrindo arquivos .mat e identificando seu cabeçalho\n",
        "\n",
        "---\n",
        "\n",
        "\n",
        "\n",
        "Para a abertura de arquivos .mat foi necessário o módulo loadmat da biblioteca scipy.io. A função retorna um dicionário com diferentes Headers, onde apenas o ultimo será utilizado. \n",
        "\n",
        "Como todos arquivos da pasta serão abertos, o conteúdo de cada arquivo será guardado em uma posição de uma lista.\n",
        "\n",
        "Os labels (saida y) estarão na ultima posição da lista "
      ]
    },
    {
      "cell_type": "code",
      "execution_count": null,
      "metadata": {
        "colab": {
          "base_uri": "https://localhost:8080/"
        },
        "id": "n29rjr7Z2HWj",
        "outputId": "82c3de30-83ef-4653-d137-b3d222e76637"
      },
      "outputs": [
        {
          "output_type": "stream",
          "name": "stdout",
          "text": [
            "{'__header__': b'MATLAB 5.0 MAT-file, Platform: PCWIN, Created on: Tue Jul 24 21:18:44 2018', '__version__': '1.0', '__globals__': [], 'org_label': array([[1, 0, 1, ..., 1, 1, 1]], dtype=uint8)}\n",
            "[[1 0 1 ... 1 1 1]]\n",
            "[[1 0 1 ... 1 1 1]]\n"
          ]
        }
      ],
      "source": [
        "########### ESSE PROCESSO É SUBSTITUIDO###########\n",
        "exemplo = loadmat('/content/40/label.mat')\n",
        "print(exemplo)\n",
        "\n",
        "exemplo = exemplo['org_label']\n",
        "print(exemplo)\n",
        "\n",
        "########### POR ESSE PROCESSO ################\n",
        "exemplo_otim = loadmat('/content/40/label.mat')\n",
        "exemplo_otim = exemplo_otim[list(exemplo_otim.keys())[-1]]\n",
        "print(exemplo_otim)"
      ]
    },
    {
      "cell_type": "code",
      "execution_count": null,
      "metadata": {
        "id": "ChIrJCfe1bIZ",
        "colab": {
          "base_uri": "https://localhost:8080/"
        },
        "outputId": "a2ce265e-7fc2-4d8d-862c-b3b6b4dde2cf"
      },
      "outputs": [
        {
          "output_type": "stream",
          "name": "stdout",
          "text": [
            "[[1 0 1 ... 1 1 1]] [[0.51724138 0.55172414 0.48275862 ... 0.51724138 0.55172414 0.55172414]\n",
            " [0.51724138 0.62068966 0.48275862 ... 0.5862069  0.55172414 0.5862069 ]\n",
            " [0.55172414 0.65517241 0.44827586 ... 0.65517241 0.62068966 0.65517241]\n",
            " ...\n",
            " [0.37931034 0.48275862 0.37931034 ... 0.37931034 0.31034483 0.34482759]\n",
            " [0.4137931  0.48275862 0.44827586 ... 0.37931034 0.37931034 0.4137931 ]\n",
            " [0.48275862 0.44827586 0.44827586 ... 0.48275862 0.44827586 0.44827586]]\n"
          ]
        }
      ],
      "source": [
        "datas = []\n",
        "\n",
        "for o in output:\n",
        "  data_test = loadmat(o)\n",
        "  data_test = data_test[list(data_test.keys())[-1]]\n",
        "  datas.append(data_test)\n",
        "\n",
        "print(datas[-1], datas[0])"
      ]
    },
    {
      "cell_type": "markdown",
      "metadata": {
        "id": "AsPB83PKznzI"
      },
      "source": [
        "# Preparação dos dados e Codificação dos valores Numéricos\n",
        "\n",
        "---\n",
        "É necessário codificar os dados em duas situações, quando forem categóricos (não numéricos) e quando estiverem com valores numéricos diferentes do escopo entre 0 e 1, a biblioteca sklearn fornece duas funções de fácil utilização e bem otimizadas.\n",
        "\n",
        "Basicamente é feito um casting para int e após uma normalização dos dados.\n",
        "\n",
        "Além disso, os dados do dataset vêm com o shape (1,x), e nosso modelo de machine learning somente aceitará vetores como parâmetro de saída, sendo necessário Transpor nossa estrutura.\n",
        "\n",
        "Também, a função flatten é necessária para transformar a estrutura em um vetor de 1D.\n",
        "\n"
      ]
    },
    {
      "cell_type": "code",
      "execution_count": null,
      "metadata": {
        "id": "GrHXqfPw8fG5",
        "colab": {
          "base_uri": "https://localhost:8080/"
        },
        "outputId": "d4d6d692-7220-4e66-b14f-85c2e9181b5c"
      },
      "outputs": [
        {
          "output_type": "stream",
          "name": "stdout",
          "text": [
            "Formatos originais dos dados: \n",
            " (1, 18000) (40, 18000) <class 'numpy.ndarray'>\n",
            "\n",
            "Formatos Transpostos dos dados: \n",
            " (18000, 1) (18000, 40)\n",
            "\n",
            "Utilização do flatten: \n",
            " (18000,)\n",
            "\n",
            "Dados sem flatten: \n",
            " [[1]\n",
            " [0]\n",
            " [1]\n",
            " ...\n",
            " [1]\n",
            " [1]\n",
            " [1]] \n",
            "Dados com flatten: \n",
            " [1 0 1 ... 1 1 1]\n"
          ]
        }
      ],
      "source": [
        "print(\"Formatos originais dos dados: \\n\", datas[-1].shape, datas[0].shape, type(datas[-1]))\n",
        "\n",
        "print(\"\\nFormatos Transpostos dos dados: \\n\", datas[-1].T.shape, datas[0].T.shape)\n",
        "\n",
        "print(\"\\nUtilização do flatten: \\n\", datas[-1].flatten().shape)\n",
        "\n",
        "print(\"\\nDados sem flatten: \\n\", datas[-1].T, \"\\nDados com flatten: \\n\", datas[-1].flatten())"
      ]
    },
    {
      "cell_type": "code",
      "execution_count": null,
      "metadata": {
        "id": "cEuvXZYPAaIq",
        "colab": {
          "base_uri": "https://localhost:8080/"
        },
        "outputId": "03c57d3e-506d-4d9e-e0fb-74f58fe5718f"
      },
      "outputs": [
        {
          "output_type": "stream",
          "name": "stdout",
          "text": [
            "(18000,)\n"
          ]
        }
      ],
      "source": [
        "lab = preprocessing.LabelEncoder()\n",
        "y_transf = lab.fit_transform(datas[-1].flatten())\n",
        "\n",
        "print(y_transf.shape)"
      ]
    },
    {
      "cell_type": "markdown",
      "metadata": {
        "id": "rH4G7ZfB1Tvd"
      },
      "source": [
        "# Modelo de Machine Learning (SVM)\n",
        "\n",
        "---\n",
        "\n",
        "As máquinas de vetores de suporte foram obtidas através da biblioteca scikitlearn, com o seguinte procedimento:\n",
        "\n",
        "Como os valores que serão utilizados estão dentro de uma lista, foi necessário um laço de repetição, que percorrerá do inicio até o penultimo valor (ignorando o label, pois será a saída)\n",
        "\n",
        "O primeiro passo é separar os dados de treino e os dados de teste, seria necessária a normalização, porém os dados do dataset já estão normalizados.\n",
        "\n",
        "Os Parametros são"
      ]
    },
    {
      "cell_type": "code",
      "execution_count": null,
      "metadata": {
        "colab": {
          "base_uri": "https://localhost:8080/",
          "height": 122
        },
        "id": "gO5LmxIqv1sZ",
        "outputId": "79720cb5-3ee6-466a-9210-591377e03f27"
      },
      "outputs": [
        {
          "output_type": "execute_result",
          "data": {
            "text/plain": [
              "'i=0\\ndistancia = []\\nacur_SVM = []\\nacur_SVM_Gauss = []\\nfor data in datas[:-1]:\\n  X_train, X_test, y_train, y_test  = train_test_split(data.T, y_transf, test_size=0.33, random_state=0)\\n\\n  X_train_Gauss = gaussian_filter1d(X_train, 3)\\n  X_test_Gauss = gaussian_filter1d(X_test, 3)\\n\\n  clf = SVC(kernel = \\'linear\\', decision_function_shape=\\'ovo\\')\\n  clf.fit(X_train, y_train)\\n\\n  clf_Gauss = SVC(kernel = \\'linear\\', decision_function_shape=\\'ovo\\')\\n  clf_Gauss.fit(X_train_Gauss, y_train)\\n\\n  y_pred = clf.predict(X_test)\\n  y_pred_Gauss = clf_Gauss.predict(X_test_Gauss)\\n\\n  acur_SVM.append(accuracy_score(y_test, y_pred)*100)\\n  acur_SVM_Gauss.append(accuracy_score(y_test, y_pred_Gauss)*100)\\n  distancia.append(i)\\n  #print(\"\\nAcuracia:\", accuracy_score(y_test, y_pred)*100, \"%   Distancia:\", i)\\n  i = i + 5\\n\\nimport matplotlib.pyplot as plt\\nplt.plot(distancia,acur_SVM) \\nplt.plot(distancia,acur_SVM_Gauss,\\'.\\') '"
            ],
            "application/vnd.google.colaboratory.intrinsic+json": {
              "type": "string"
            }
          },
          "metadata": {},
          "execution_count": 7
        }
      ],
      "source": [
        "'''i=0\n",
        "distancia = []\n",
        "acur_SVM = []\n",
        "acur_SVM_Gauss = []\n",
        "for data in datas[:-1]:\n",
        "  X_train, X_test, y_train, y_test  = train_test_split(data.T, y_transf, test_size=0.33, random_state=0)\n",
        "\n",
        "  X_train_Gauss = gaussian_filter1d(X_train, 3)\n",
        "  X_test_Gauss = gaussian_filter1d(X_test, 3)\n",
        "\n",
        "  clf = SVC(kernel = 'linear', decision_function_shape='ovo')\n",
        "  clf.fit(X_train, y_train)\n",
        "\n",
        "  clf_Gauss = SVC(kernel = 'linear', decision_function_shape='ovo')\n",
        "  clf_Gauss.fit(X_train_Gauss, y_train)\n",
        "\n",
        "  y_pred = clf.predict(X_test)\n",
        "  y_pred_Gauss = clf_Gauss.predict(X_test_Gauss)\n",
        "\n",
        "  acur_SVM.append(accuracy_score(y_test, y_pred)*100)\n",
        "  acur_SVM_Gauss.append(accuracy_score(y_test, y_pred_Gauss)*100)\n",
        "  distancia.append(i)\n",
        "  #print(\"\\nAcuracia:\", accuracy_score(y_test, y_pred)*100, \"%   Distancia:\", i)\n",
        "  i = i + 5\n",
        "\n",
        "import matplotlib.pyplot as plt\n",
        "plt.plot(distancia,acur_SVM) \n",
        "plt.plot(distancia,acur_SVM_Gauss,'.') '''  "
      ]
    },
    {
      "cell_type": "markdown",
      "source": [
        "# **ÁRVORES DE DECISÃO**\n",
        "\n",
        "---\n",
        "\n",
        "\n",
        "\n",
        "\n"
      ],
      "metadata": {
        "id": "V2xjUjh8bLAb"
      }
    },
    {
      "cell_type": "code",
      "source": [
        "i=0\n",
        "distancia = []\n",
        "acur_DT = []\n",
        "acur_DT_Gauss = []\n",
        "for data in datas[:-1]:\n",
        "  X_train, X_test, y_train, y_test  = train_test_split(data.T, y_transf, test_size=0.33, random_state=0)\n",
        "  \n",
        "  X_train_Gauss = gaussian_filter1d(X_train, 3)\n",
        "  X_test_Gauss = gaussian_filter1d(X_test, 3)\n",
        "\n",
        "  clf = DecisionTreeClassifier(criterion='entropy')\n",
        "  clf.fit(X_train, y_train)\n",
        "\n",
        "  clf_Gauss = DecisionTreeClassifier(criterion='entropy')\n",
        "  clf_Gauss.fit(X_train_Gauss, y_train)\n",
        "\n",
        "  y_pred = clf.predict(X_test)\n",
        "  y_pred_Gauss = clf_Gauss.predict(X_test_Gauss)\n",
        "\n",
        "  acur_DT.append(accuracy_score(y_test, y_pred)*100)\n",
        "  acur_DT_Gauss.append(accuracy_score(y_test, y_pred_Gauss)*100)\n",
        "  distancia.append(i)\n",
        "  #print(\"\\nAcuracia:\", accuracy_score(y_test, y_pred)*100, \"%   Distancia:\", i)\n",
        "  i = i + 5\n",
        "\n",
        "#plt.plot(distancia,acur_DT) \n",
        "#plt.plot(distancia,acur_DT_Gauss,'.') "
      ],
      "metadata": {
        "id": "KspfZbZEbW7i"
      },
      "execution_count": null,
      "outputs": []
    },
    {
      "cell_type": "markdown",
      "metadata": {
        "id": "NLFc-FS6ehRb"
      },
      "source": [
        "# **METODOS DE ENSEMBLE**\n",
        "\n",
        "---\n",
        "\n"
      ]
    },
    {
      "cell_type": "markdown",
      "source": [
        "> # **Florestas Aleatórias**\n",
        "\n",
        "---\n",
        "\n",
        "> Quando o Bagging é utilizado em Decision Trees (Arvores de Decisão), um novo algoritmo chamado Random Forest é criado.\n",
        "\n",
        "\n",
        "\n",
        "> A biblioteca Scikit Learn conta com um modulo dedicado apenas as Random Forests.\n"
      ],
      "metadata": {
        "id": "cNrJ1Xx6aV1i"
      }
    },
    {
      "cell_type": "code",
      "source": [
        "i=0\n",
        "distancia = []\n",
        "acur_RF = []\n",
        "acur_RF_Gauss = []\n",
        "for data in datas[:-1]:\n",
        "  X_train, X_test, y_train, y_test  = train_test_split(data.T, y_transf, test_size=0.33, random_state=0)\n",
        "  \n",
        "  X_train_Gauss = gaussian_filter1d(X_train, 3)\n",
        "  X_test_Gauss = gaussian_filter1d(X_test, 3)\n",
        "\n",
        "  clf = RandomForestClassifier(criterion='entropy',n_estimators=25)\n",
        "  clf.fit(X_train, y_train)\n",
        "\n",
        "  clf_Gauss = RandomForestClassifier(criterion='entropy',n_estimators=25)\n",
        "  clf_Gauss.fit(X_train_Gauss, y_train)\n",
        "\n",
        "  y_pred = clf.predict(X_test)\n",
        "  y_pred_Gauss = clf_Gauss.predict(X_test_Gauss)\n",
        "\n",
        "  acur_RF.append(accuracy_score(y_test, y_pred)*100)\n",
        "  acur_RF_Gauss.append(accuracy_score(y_test, y_pred_Gauss)*100)\n",
        "  distancia.append(i)\n",
        "  #print(\"\\nAcuracia:\", accuracy_score(y_test, y_pred)*100, \"%   Distancia:\", i)\n",
        "  i = i + 5\n",
        "\n",
        "#plt.plot(distancia,acur_RF) \n",
        "#plt.plot(distancia,acur_RF_Gauss,'.')  "
      ],
      "metadata": {
        "id": "VAPqSMCyaVfS"
      },
      "execution_count": null,
      "outputs": []
    },
    {
      "cell_type": "markdown",
      "metadata": {
        "id": "pUreaQj9jd5F"
      },
      "source": [
        "# **BOOSTING**\n",
        "\n",
        "---\n",
        "\n",
        "Metodos de Boosting são metodos de ensemble que combinam classificadores fracos sequencialmente. Cada classificador tem objetivo de corrigir os erros do predecessor.\n",
        "\n",
        "Serão abordados o Adaboost e o Gradient Boost."
      ]
    },
    {
      "cell_type": "markdown",
      "metadata": {
        "id": "36XxcSYzj3SZ"
      },
      "source": [
        "\n",
        "> # **Gradient Boost**\n",
        "\n",
        "\n"
      ]
    },
    {
      "cell_type": "code",
      "execution_count": null,
      "metadata": {
        "id": "Bw-WxHsTj-K1"
      },
      "outputs": [],
      "source": [
        "i=0\n",
        "distancia = []\n",
        "acur_GB = []\n",
        "acur_GB_Gauss = []\n",
        "for data in datas[:-1]:\n",
        "  X_train, X_test, y_train, y_test  = train_test_split(data.T, y_transf, test_size=0.33, random_state=0)\n",
        "  \n",
        "  X_train_Gauss = gaussian_filter1d(X_train, 3)\n",
        "  X_test_Gauss = gaussian_filter1d(X_test, 3)\n",
        "\n",
        "  clf = GradientBoostingClassifier(n_estimators=25)\n",
        "  clf.fit(X_train, y_train)\n",
        "\n",
        "  clf_Gauss = GradientBoostingClassifier(n_estimators=25)\n",
        "  clf_Gauss.fit(X_train_Gauss, y_train)\n",
        "\n",
        "  y_pred = clf.predict(X_test)\n",
        "  y_pred_Gauss = clf_Gauss.predict(X_test_Gauss)\n",
        "\n",
        "  acur_GB.append(accuracy_score(y_test, y_pred)*100)\n",
        "  acur_GB_Gauss.append(accuracy_score(y_test, y_pred_Gauss)*100)\n",
        "  distancia.append(i)\n",
        "  #print(\"\\nAcuracia:\", accuracy_score(y_test, y_pred)*100, \"%   Distancia:\", i)\n",
        "  i = i + 5\n",
        "\n",
        "#plt.plot(distancia,acur_GB) \n",
        "#plt.plot(distancia,acur_GB_Gauss,'.')   "
      ]
    },
    {
      "cell_type": "markdown",
      "source": [
        "> # **AdaBoost**"
      ],
      "metadata": {
        "id": "xBF5LuGfdD6I"
      }
    },
    {
      "cell_type": "code",
      "source": [
        "i=0\n",
        "distancia = []\n",
        "acur_Ada = []\n",
        "acur_Ada_Gauss = []\n",
        "for data in datas[:-1]:\n",
        "  X_train, X_test, y_train, y_test  = train_test_split(data.T, y_transf, test_size=0.33, random_state=0)\n",
        "  \n",
        "  X_train_Gauss = gaussian_filter1d(X_train, 3)\n",
        "  X_test_Gauss = gaussian_filter1d(X_test, 3)\n",
        "\n",
        "  clf = AdaBoostClassifier(DecisionTreeClassifier(criterion='entropy'),n_estimators=25)\n",
        "  clf.fit(X_train, y_train)\n",
        "\n",
        "  clf_Gauss = AdaBoostClassifier(DecisionTreeClassifier(criterion='entropy'), n_estimators=25)\n",
        "  clf_Gauss.fit(X_train_Gauss, y_train)\n",
        "\n",
        "  y_pred = clf.predict(X_test)\n",
        "  y_pred_Gauss = clf_Gauss.predict(X_test_Gauss)\n",
        "\n",
        "  acur_Ada.append(accuracy_score(y_test, y_pred)*100)\n",
        "  acur_Ada_Gauss.append(accuracy_score(y_test, y_pred_Gauss)*100)\n",
        "  distancia.append(i)\n",
        "  #print(\"\\nAcuracia:\", accuracy_score(y_test, y_pred)*100, \"%   Distancia:\", i)\n",
        "  i = i + 5\n",
        "\n",
        "#plt.plot(distancia,acur_Ada) \n",
        "#plt.plot(distancia,acur_Ada_Gauss,'.')   "
      ],
      "metadata": {
        "id": "gWojxMhldH9b"
      },
      "execution_count": null,
      "outputs": []
    },
    {
      "cell_type": "markdown",
      "source": [
        "# **PLOT DOS GRAFICOS**\n",
        "\n",
        "---\n",
        "\n"
      ],
      "metadata": {
        "id": "ftDviQXEuz4m"
      }
    },
    {
      "cell_type": "code",
      "source": [
        "# Initialise the subplot function using number of rows and columns\n",
        "figure, axis = plt.subplots(1, 2, figsize=[16,8], sharey=True)\n",
        "  \n",
        "axis[0].plot(distancia,acur_DT, '.', label='Arvore de decisão')\n",
        "axis[0].plot(distancia,acur_RF, '--', label='Random Forest')\n",
        "axis[0].plot(distancia,acur_GB, '*-', label='Gradient Boost')\n",
        "axis[0].plot(distancia,acur_Ada, label='Adaboost')\n",
        "axis[0].set_title(\"ACURÁCIA MODELOS\")\n",
        "axis[0].legend(shadow=True, fontsize='x-large')\n",
        "axis[0].grid(True) \n",
        "axis[0].set_xlabel('Distância (cm)', fontsize =15)\n",
        "axis[0].set_ylabel('Acurácia (%)', fontsize =15)\n",
        "\n",
        "axis[1].plot(distancia,acur_DT_Gauss,'.', label='Arvore de decisão') \n",
        "axis[1].plot(distancia,acur_RF_Gauss,'--', label='Random Forest') \n",
        "axis[1].plot(distancia,acur_GB_Gauss,'*-', label='Gradient Boost')\n",
        "axis[1].plot(distancia,acur_Ada_Gauss, label='Adaboost') \n",
        "axis[1].set_title(\"ACURÁCIA MODELOS FILTRADOS\")\n",
        "axis[1].legend(shadow=True, fontsize='x-large')    \n",
        "axis[1].grid(True) \n",
        "axis[1].set_xlabel('Distância (cm)', fontsize =15)\n",
        "axis[1].set_ylabel('Acurácia (%)', fontsize =15)\n",
        "plt.show() "
      ],
      "metadata": {
        "colab": {
          "base_uri": "https://localhost:8080/"
        },
        "id": "5IJmlQNM6xaM",
        "outputId": "00d7f2ea-a62c-4f12-acda-9f65776ba377"
      },
      "execution_count": null,
      "outputs": [
        {
          "output_type": "display_data",
          "data": {
            "text/plain": [
              "<Figure size 1152x576 with 2 Axes>"
            ],
            "image/png": "[encoded data removed]"
          },
          "metadata": {
            "needs_background": "light"
          }
        }
      ]
    },
    {
      "cell_type": "code",
      "source": [
        "# Initialise the subplot function using number of rows and columns\n",
        "figure, axis = plt.subplots(1, 1, figsize=[8,8])\n",
        "  \n",
        "# For Sine Function\n",
        "axis.plot(distancia,acur_RF, label='Random Forest')\n",
        "axis.plot(distancia,acur_GB, label='Gradient Boost')\n",
        "axis.plot(distancia,acur_RF_Gauss,'--', label='Random Forest Filtro') \n",
        "axis.plot(distancia,acur_GB_Gauss,'*-', label='Gradient Boost Filtro')\n",
        "axis.set_title(\"ACURACIA MODELOS\")\n",
        "axis.legend(shadow=True, fontsize='x-large')\n",
        "axis.grid(True)   \n",
        "# Combine all the operations and display\n",
        "plt.show() "
      ],
      "metadata": {
        "colab": {
          "base_uri": "https://localhost:8080/",
          "height": 499
        },
        "id": "eeP_ILBgoBIV",
        "outputId": "3a2fcb44-db26-4f96-96ea-7a26509205d1"
      },
      "execution_count": null,
      "outputs": [
        {
          "output_type": "display_data",
          "data": {
            "text/plain": [
              "<Figure size 576x576 with 1 Axes>"
            ],
            "image/png": "[encoded data removed]"
          },
          "metadata": {
            "needs_background": "light"
          }
        }
      ]
    },
    {
      "cell_type": "code",
      "source": [
        "for i in range(len(distancia)):\n",
        "  if distancia[i]==100:\n",
        "    print(acur_RF[i], acur_RF_Gauss[i])\n",
        "    print(acur_GB[i], acur_GB_Gauss[i])\n",
        "    print(acur_Ada[i], acur_Ada_Gauss[i])\n",
        "    print(acur_DT[i], acur_DT_Gauss[i])"
      ],
      "metadata": {
        "colab": {
          "base_uri": "https://localhost:8080/"
        },
        "id": "ynHPXzNfgUUu",
        "outputId": "f99cf01b-c8cc-48fc-822e-134eb2dd57d6"
      },
      "execution_count": null,
      "outputs": [
        {
          "output_type": "stream",
          "name": "stdout",
          "text": [
            "93.60269360269359 95.85858585858585\n",
            "91.56565656565657 95.77441077441078\n",
            "85.18518518518519 94.02356902356902\n",
            "85.55555555555556 93.92255892255892\n"
          ]
        }
      ]
    },
    {
      "cell_type": "code",
      "source": [
        "for i in range(len(distancia)):\n",
        "  if distancia[i]==70:\n",
        "    print(acur_RF[i] - acur_RF_Gauss[i])\n",
        "    print(acur_GB[i] - acur_GB_Gauss[i])\n",
        "    print(\"----------------\")\n",
        "  if distancia[i]==100:\n",
        "    print(acur_RF[i] - acur_RF_Gauss[i])\n",
        "    print(acur_GB[i] - acur_GB_Gauss[i])\n",
        "    print(\"----------------\")\n",
        "  if distancia[i]==150:\n",
        "    print(acur_RF[i] - acur_RF_Gauss[i])\n",
        "    print(acur_GB[i] - acur_GB_Gauss[i])  \n",
        "    print(\"----------------\")\n",
        "  if distancia[i]==180:\n",
        "    print(acur_RF[i] - acur_RF_Gauss[i])\n",
        "    print(acur_GB[i] - acur_GB_Gauss[i])  "
      ],
      "metadata": {
        "colab": {
          "base_uri": "https://localhost:8080/"
        },
        "id": "uU6tTdsQoMD2",
        "outputId": "a9e241ce-69bf-41db-ad6a-4abb43ac980f"
      },
      "execution_count": null,
      "outputs": [
        {
          "output_type": "stream",
          "name": "stdout",
          "text": [
            "-0.4882154882154879\n",
            "-1.3468013468013424\n",
            "----------------\n",
            "-2.255892255892263\n",
            "-4.208754208754215\n",
            "----------------\n",
            "-3.4343434343434325\n",
            "-5.084175084175087\n",
            "----------------\n",
            "-1.9023569023568996\n",
            "-3.5353535353535364\n"
          ]
        }
      ]
    },
    {
      "cell_type": "code",
      "source": [
        "for i in range(len(distancia)):\n",
        "  if distancia[i]==50:\n",
        "    print(acur_RF[i],acur_RF_Gauss[i])\n",
        "    print(acur_GB[i],acur_GB_Gauss[i])\n",
        "    print(\"----------------\")\n",
        "  if distancia[i]==100:\n",
        "    print(acur_RF[i],acur_RF_Gauss[i])\n",
        "    print(acur_GB[i],acur_GB_Gauss[i])\n",
        "    print(\"----------------\")\n",
        "  if distancia[i]==150:\n",
        "    print(acur_RF[i],acur_RF_Gauss[i])\n",
        "    print(acur_GB[i],acur_GB_Gauss[i])  \n",
        "    print(\"----------------\")\n",
        "  if distancia[i]==180:\n",
        "    print(acur_RF[i],acur_RF_Gauss[i])\n",
        "    print(acur_GB[i],acur_GB_Gauss[i])  "
      ],
      "metadata": {
        "colab": {
          "base_uri": "https://localhost:8080/"
        },
        "id": "AemzgQNrFk-Z",
        "outputId": "c8b06ba4-89ef-4def-9d6f-272eefb8ece7"
      },
      "execution_count": null,
      "outputs": [
        {
          "output_type": "stream",
          "name": "stdout",
          "text": [
            "100.0 100.0\n",
            "99.86531986531986 100.0\n",
            "----------------\n",
            "93.60269360269359 95.85858585858585\n",
            "91.56565656565657 95.77441077441078\n",
            "----------------\n",
            "70.53872053872054 73.97306397306397\n",
            "69.88215488215488 74.96632996632997\n",
            "----------------\n",
            "64.54545454545455 66.44781144781145\n",
            "65.62289562289563 69.15824915824916\n"
          ]
        }
      ]
    }
  ],
  "metadata": {
    "colab": {
      "collapsed_sections": [
        "LYZE5qEGypBz",
        "rj3D3_h4BLvg",
        "qGw2PwWFlQUn",
        "KySvizIsendj",
        "xh_jidw6fbJv",
        "mk1gLQMBhHqd",
        "cA5JnU2sjJ-d",
        "36XxcSYzj3SZ",
        "-iJKlwAi3Ezq"
      ],
      "provenance": [],
      "authorship_tag": "ABX9TyOQF05HlP+BwQ6mBg1xX+YS",
      "include_colab_link": true
    },
    "kernelspec": {
      "display_name": "Python 3",
      "name": "python3"
    },
    "language_info": {
      "name": "python"
    },
    "gpuClass": "standard"
  },
  "nbformat": 4,
  "nbformat_minor": 0
}